{
 "cells": [
  {
   "cell_type": "code",
   "execution_count": 5,
   "metadata": {},
   "outputs": [],
   "source": [
    "import pandas as pd\n",
    "import motor.motor_tornado"
   ]
  },
  {
   "cell_type": "markdown",
   "metadata": {},
   "source": [
    "Read CSV File and create connection with mongo DB"
   ]
  },
  {
   "cell_type": "code",
   "execution_count": 6,
   "metadata": {},
   "outputs": [],
   "source": [
    "mongo_client = motor.motor_tornado.MotorClient('localhost', 27017)\n",
    "industrial_db = mongo_client.industrial\n",
    "\n",
    "df = pd.read_csv(\"./merge_files - Sheet1.csv\",dtype=str)"
   ]
  },
  {
   "cell_type": "markdown",
   "metadata": {},
   "source": [
    "Check if there is any empty reason. If exist fill with Name"
   ]
  },
  {
   "cell_type": "code",
   "execution_count": 7,
   "metadata": {},
   "outputs": [],
   "source": [
    "for line in df.iloc:\n",
    "    if str(line[\"Reason\"]) == \"nan\":\n",
    "        line[\"Reason\"] = line[\"Name\"]"
   ]
  },
  {
   "cell_type": "markdown",
   "metadata": {},
   "source": [
    "Parse duration to time delta. This allow to make calculations using pandas"
   ]
  },
  {
   "cell_type": "code",
   "execution_count": 8,
   "metadata": {},
   "outputs": [],
   "source": [
    "df[\"Duration\"] = pd.to_timedelta(df[\"Duration\"])"
   ]
  },
  {
   "cell_type": "markdown",
   "metadata": {},
   "source": [
    "Create a dictionary with raw data for each file on CSV"
   ]
  },
  {
   "cell_type": "code",
   "execution_count": 9,
   "metadata": {},
   "outputs": [],
   "source": [
    "industrial_files:list[dict] = []\n",
    "\n",
    "list_of_files = df[\"File\"].unique()\n",
    "for file in list_of_files:\n",
    "    stops:list[dict] = []\n",
    "    file_registers = df[ df[\"File\"]==file ]\n",
    "    for register in file_registers.iterrows():\n",
    "        stops.append({\n",
    "            \"start\":pd.to_datetime(register[1][\"Start\"]),\n",
    "            \"end\":pd.to_datetime(register[1][\"End\"]),\n",
    "            \"duration\":str(register[1][\"Duration\"]),\n",
    "            \"name\":register[1][\"Name\"],\n",
    "            \"reason\":register[1][\"Reason\"]})\n",
    "\n",
    "    industrial_files.append({\n",
    "        \"file\":file,\n",
    "        \"stops\":stops\n",
    "    })"
   ]
  },
  {
   "cell_type": "markdown",
   "metadata": {},
   "source": [
    "Save raw data into mongo DB"
   ]
  },
  {
   "cell_type": "code",
   "execution_count": 14,
   "metadata": {},
   "outputs": [
    {
     "data": {
      "text/plain": [
       "<pymongo.results.InsertManyResult at 0x13219cdf0>"
      ]
     },
     "execution_count": 14,
     "metadata": {},
     "output_type": "execute_result"
    }
   ],
   "source": [
    "await industrial_db.raw_data.insert_many(industrial_files)"
   ]
  },
  {
   "cell_type": "markdown",
   "metadata": {},
   "source": [
    "Process dataframe to generate data"
   ]
  },
  {
   "cell_type": "code",
   "execution_count": 11,
   "metadata": {},
   "outputs": [],
   "source": [
    "list_processed_files:list[dict] = []\n",
    "\n",
    "list_of_files = df[\"File\"].unique()\n",
    "for file in list_of_files:\n",
    "    data: dict = {}\n",
    "    data[\"file\"] = file\n",
    "    data[\"result\"] = []\n",
    "\n",
    "    file_data:pd.DataFrame = df[ df[\"File\"]==file ]\n",
    "    total_of_duration = file_data[\"Duration\"].sum()\n",
    "    list_of_reasons = file_data[\"Reason\"].unique()\n",
    "\n",
    "    for reason in list_of_reasons:\n",
    "        duration_total_of_reason = (file_data[file_data[\"Reason\"]==reason])[\"Duration\"].sum()\n",
    "        percent_of_total = (duration_total_of_reason*100)/total_of_duration\n",
    "\n",
    "        data[\"result\"].append({\n",
    "            \"reason\":reason,\n",
    "            \"duration_total\":str(duration_total_of_reason),\n",
    "            \"relative_duration\":percent_of_total\n",
    "        })\n",
    "    list_processed_files.append(data)"
   ]
  },
  {
   "cell_type": "markdown",
   "metadata": {},
   "source": [
    "Insert processed data into mongo"
   ]
  },
  {
   "cell_type": "code",
   "execution_count": 15,
   "metadata": {},
   "outputs": [
    {
     "data": {
      "text/plain": [
       "<pymongo.results.InsertManyResult at 0x1327cb400>"
      ]
     },
     "execution_count": 15,
     "metadata": {},
     "output_type": "execute_result"
    }
   ],
   "source": [
    "await industrial_db.processed_data.insert_many(list_processed_files)"
   ]
  }
 ],
 "metadata": {
  "kernelspec": {
   "display_name": "Python 3.10.8 ('fastAPI-NhpKiiZ7')",
   "language": "python",
   "name": "python3"
  },
  "language_info": {
   "codemirror_mode": {
    "name": "ipython",
    "version": 3
   },
   "file_extension": ".py",
   "mimetype": "text/x-python",
   "name": "python",
   "nbconvert_exporter": "python",
   "pygments_lexer": "ipython3",
   "version": "3.10.9 (main, Dec 15 2022, 17:11:09) [Clang 14.0.0 (clang-1400.0.29.202)]"
  },
  "orig_nbformat": 4,
  "vscode": {
   "interpreter": {
    "hash": "ed47d782e33f4104f207cb2dd8be08e6ca3338c1a6a1488b481a3d01c2ea2d26"
   }
  }
 },
 "nbformat": 4,
 "nbformat_minor": 2
}
