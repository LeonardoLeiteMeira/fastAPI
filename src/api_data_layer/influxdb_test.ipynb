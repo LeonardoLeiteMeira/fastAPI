{
 "cells": [
  {
   "attachments": {},
   "cell_type": "markdown",
   "metadata": {},
   "source": [
    "# Using influxdb_client library"
   ]
  },
  {
   "cell_type": "code",
   "execution_count": 134,
   "metadata": {},
   "outputs": [],
   "source": [
    "from influxdb_client import InfluxDBClient, Point, BucketRetentionRules\n",
    "from datetime import datetime"
   ]
  },
  {
   "cell_type": "code",
   "execution_count": 90,
   "metadata": {},
   "outputs": [],
   "source": [
    "\n",
    "url = 'http://localhost:8086'\n",
    "token = '2Wc71suOxmK_X1iQ8pjJd2RAwrn_6azqdQ9vbcW6cUJ3zQv33SPDHjoiqbrmV0VxSACCS9t2_rGql9CxAbca_g=='\n",
    "org = 'leonardo'\n",
    "bucket = 'python_test'"
   ]
  },
  {
   "cell_type": "code",
   "execution_count": 139,
   "metadata": {},
   "outputs": [],
   "source": [
    "client = InfluxDBClient(url=url, token=token, org=org)"
   ]
  },
  {
   "cell_type": "code",
   "execution_count": 140,
   "metadata": {},
   "outputs": [
    {
     "data": {
      "text/plain": [
       "{'checks': [],\n",
       " 'commit': '9dcf880fe0',\n",
       " 'message': 'ready for queries and writes',\n",
       " 'name': 'influxdb',\n",
       " 'status': 'pass',\n",
       " 'version': '2.6.1'}"
      ]
     },
     "execution_count": 140,
     "metadata": {},
     "output_type": "execute_result"
    }
   ],
   "source": [
    "client.health()"
   ]
  },
  {
   "cell_type": "code",
   "execution_count": 93,
   "metadata": {},
   "outputs": [],
   "source": [
    "write_api = client.write_api()\n",
    "query_api = client.query_api()"
   ]
  },
  {
   "cell_type": "code",
   "execution_count": 136,
   "metadata": {},
   "outputs": [],
   "source": [
    "# data_to_insert = Point(\"h2o_level\").tag(\"location\", \"coyote_creek\").field(\"water_level\",12).field(\"my_field\", 8)\n",
    "data_to_insert = {\n",
    "    \"measurement\": \"h2o_level\",\n",
    "    \"tags\": {\"location\": \"coyote_creek\"},\n",
    "    \"fields\": {\"water_level\": 8, \"my_field\":11},\n",
    "    \"time\":datetime.now()\n",
    "}"
   ]
  },
  {
   "cell_type": "code",
   "execution_count": 137,
   "metadata": {},
   "outputs": [],
   "source": [
    "write_result = write_api.write(bucket=bucket,org=org,record=data_to_insert)\n"
   ]
  },
  {
   "cell_type": "code",
   "execution_count": 138,
   "metadata": {},
   "outputs": [
    {
     "name": "stderr",
     "output_type": "stream",
     "text": [
      "/Users/leonardoleite/.local/share/virtualenvs/fastAPI-NhpKiiZ7/lib/python3.10/site-packages/influxdb_client/client/warnings.py:31: MissingPivotFunction: The query doesn't contains the pivot() function.\n",
      "\n",
      "The result will not be shaped to optimal processing by pandas.DataFrame. Use the pivot() function by:\n",
      "\n",
      "    from(bucket: \"python_test\")|> range(start: -12h) |> pivot(rowKey:[\"_time\"], columnKey: [\"_field\"], valueColumn: \"_value\")\n",
      "\n",
      "You can disable this warning by:\n",
      "    import warnings\n",
      "    from influxdb_client.client.warnings import MissingPivotFunction\n",
      "\n",
      "    warnings.simplefilter(\"ignore\", MissingPivotFunction)\n",
      "\n",
      "For more info see:\n",
      "    - https://docs.influxdata.com/resources/videos/pivots-in-flux/\n",
      "    - https://docs.influxdata.com/flux/latest/stdlib/universe/pivot/\n",
      "    - https://docs.influxdata.com/flux/latest/stdlib/influxdata/influxdb/schema/fieldsascols/\n",
      "\n",
      "  warnings.warn(message, MissingPivotFunction)\n"
     ]
    },
    {
     "data": {
      "text/html": [
       "<div>\n",
       "<style scoped>\n",
       "    .dataframe tbody tr th:only-of-type {\n",
       "        vertical-align: middle;\n",
       "    }\n",
       "\n",
       "    .dataframe tbody tr th {\n",
       "        vertical-align: top;\n",
       "    }\n",
       "\n",
       "    .dataframe thead th {\n",
       "        text-align: right;\n",
       "    }\n",
       "</style>\n",
       "<table border=\"1\" class=\"dataframe\">\n",
       "  <thead>\n",
       "    <tr style=\"text-align: right;\">\n",
       "      <th></th>\n",
       "      <th>result</th>\n",
       "      <th>table</th>\n",
       "      <th>_start</th>\n",
       "      <th>_stop</th>\n",
       "      <th>_time</th>\n",
       "      <th>_value</th>\n",
       "      <th>_field</th>\n",
       "      <th>_measurement</th>\n",
       "      <th>location</th>\n",
       "    </tr>\n",
       "  </thead>\n",
       "  <tbody>\n",
       "    <tr>\n",
       "      <th>0</th>\n",
       "      <td>_result</td>\n",
       "      <td>0</td>\n",
       "      <td>2023-01-10 04:58:12.653341+00:00</td>\n",
       "      <td>2023-01-10 16:58:12.653341+00:00</td>\n",
       "      <td>2023-01-10 14:55:52.783831+00:00</td>\n",
       "      <td>10</td>\n",
       "      <td>my_field</td>\n",
       "      <td>h2o_level</td>\n",
       "      <td>coyote_creek</td>\n",
       "    </tr>\n",
       "    <tr>\n",
       "      <th>1</th>\n",
       "      <td>_result</td>\n",
       "      <td>0</td>\n",
       "      <td>2023-01-10 04:58:12.653341+00:00</td>\n",
       "      <td>2023-01-10 16:58:12.653341+00:00</td>\n",
       "      <td>2023-01-10 15:00:29.179106+00:00</td>\n",
       "      <td>9</td>\n",
       "      <td>my_field</td>\n",
       "      <td>h2o_level</td>\n",
       "      <td>coyote_creek</td>\n",
       "    </tr>\n",
       "    <tr>\n",
       "      <th>2</th>\n",
       "      <td>_result</td>\n",
       "      <td>0</td>\n",
       "      <td>2023-01-10 04:58:12.653341+00:00</td>\n",
       "      <td>2023-01-10 16:58:12.653341+00:00</td>\n",
       "      <td>2023-01-10 16:16:06.873886+00:00</td>\n",
       "      <td>9</td>\n",
       "      <td>my_field</td>\n",
       "      <td>h2o_level</td>\n",
       "      <td>coyote_creek</td>\n",
       "    </tr>\n",
       "    <tr>\n",
       "      <th>3</th>\n",
       "      <td>_result</td>\n",
       "      <td>0</td>\n",
       "      <td>2023-01-10 04:58:12.653341+00:00</td>\n",
       "      <td>2023-01-10 16:58:12.653341+00:00</td>\n",
       "      <td>2023-01-10 16:53:25.112366+00:00</td>\n",
       "      <td>8</td>\n",
       "      <td>my_field</td>\n",
       "      <td>h2o_level</td>\n",
       "      <td>coyote_creek</td>\n",
       "    </tr>\n",
       "    <tr>\n",
       "      <th>4</th>\n",
       "      <td>_result</td>\n",
       "      <td>0</td>\n",
       "      <td>2023-01-10 04:58:12.653341+00:00</td>\n",
       "      <td>2023-01-10 16:58:12.653341+00:00</td>\n",
       "      <td>2023-01-10 16:57:37.638057+00:00</td>\n",
       "      <td>11</td>\n",
       "      <td>my_field</td>\n",
       "      <td>h2o_level</td>\n",
       "      <td>coyote_creek</td>\n",
       "    </tr>\n",
       "    <tr>\n",
       "      <th>5</th>\n",
       "      <td>_result</td>\n",
       "      <td>1</td>\n",
       "      <td>2023-01-10 04:58:12.653341+00:00</td>\n",
       "      <td>2023-01-10 16:58:12.653341+00:00</td>\n",
       "      <td>2023-01-10 13:04:27.716174+00:00</td>\n",
       "      <td>1</td>\n",
       "      <td>water_level</td>\n",
       "      <td>h2o_level</td>\n",
       "      <td>coyote_creek</td>\n",
       "    </tr>\n",
       "    <tr>\n",
       "      <th>6</th>\n",
       "      <td>_result</td>\n",
       "      <td>1</td>\n",
       "      <td>2023-01-10 04:58:12.653341+00:00</td>\n",
       "      <td>2023-01-10 16:58:12.653341+00:00</td>\n",
       "      <td>2023-01-10 13:04:41.780537+00:00</td>\n",
       "      <td>1</td>\n",
       "      <td>water_level</td>\n",
       "      <td>h2o_level</td>\n",
       "      <td>coyote_creek</td>\n",
       "    </tr>\n",
       "    <tr>\n",
       "      <th>7</th>\n",
       "      <td>_result</td>\n",
       "      <td>1</td>\n",
       "      <td>2023-01-10 04:58:12.653341+00:00</td>\n",
       "      <td>2023-01-10 16:58:12.653341+00:00</td>\n",
       "      <td>2023-01-10 13:05:06.889822+00:00</td>\n",
       "      <td>1</td>\n",
       "      <td>water_level</td>\n",
       "      <td>h2o_level</td>\n",
       "      <td>coyote_creek</td>\n",
       "    </tr>\n",
       "    <tr>\n",
       "      <th>8</th>\n",
       "      <td>_result</td>\n",
       "      <td>1</td>\n",
       "      <td>2023-01-10 04:58:12.653341+00:00</td>\n",
       "      <td>2023-01-10 16:58:12.653341+00:00</td>\n",
       "      <td>2023-01-10 13:07:53.794935+00:00</td>\n",
       "      <td>1</td>\n",
       "      <td>water_level</td>\n",
       "      <td>h2o_level</td>\n",
       "      <td>coyote_creek</td>\n",
       "    </tr>\n",
       "    <tr>\n",
       "      <th>9</th>\n",
       "      <td>_result</td>\n",
       "      <td>1</td>\n",
       "      <td>2023-01-10 04:58:12.653341+00:00</td>\n",
       "      <td>2023-01-10 16:58:12.653341+00:00</td>\n",
       "      <td>2023-01-10 13:10:54.753481+00:00</td>\n",
       "      <td>1</td>\n",
       "      <td>water_level</td>\n",
       "      <td>h2o_level</td>\n",
       "      <td>coyote_creek</td>\n",
       "    </tr>\n",
       "    <tr>\n",
       "      <th>10</th>\n",
       "      <td>_result</td>\n",
       "      <td>1</td>\n",
       "      <td>2023-01-10 04:58:12.653341+00:00</td>\n",
       "      <td>2023-01-10 16:58:12.653341+00:00</td>\n",
       "      <td>2023-01-10 13:11:38.579869+00:00</td>\n",
       "      <td>1</td>\n",
       "      <td>water_level</td>\n",
       "      <td>h2o_level</td>\n",
       "      <td>coyote_creek</td>\n",
       "    </tr>\n",
       "    <tr>\n",
       "      <th>11</th>\n",
       "      <td>_result</td>\n",
       "      <td>1</td>\n",
       "      <td>2023-01-10 04:58:12.653341+00:00</td>\n",
       "      <td>2023-01-10 16:58:12.653341+00:00</td>\n",
       "      <td>2023-01-10 14:53:18.966903+00:00</td>\n",
       "      <td>2</td>\n",
       "      <td>water_level</td>\n",
       "      <td>h2o_level</td>\n",
       "      <td>coyote_creek</td>\n",
       "    </tr>\n",
       "    <tr>\n",
       "      <th>12</th>\n",
       "      <td>_result</td>\n",
       "      <td>1</td>\n",
       "      <td>2023-01-10 04:58:12.653341+00:00</td>\n",
       "      <td>2023-01-10 16:58:12.653341+00:00</td>\n",
       "      <td>2023-01-10 14:54:57.486112+00:00</td>\n",
       "      <td>4</td>\n",
       "      <td>water_level</td>\n",
       "      <td>h2o_level</td>\n",
       "      <td>coyote_creek</td>\n",
       "    </tr>\n",
       "    <tr>\n",
       "      <th>13</th>\n",
       "      <td>_result</td>\n",
       "      <td>1</td>\n",
       "      <td>2023-01-10 04:58:12.653341+00:00</td>\n",
       "      <td>2023-01-10 16:58:12.653341+00:00</td>\n",
       "      <td>2023-01-10 14:55:52.783831+00:00</td>\n",
       "      <td>4</td>\n",
       "      <td>water_level</td>\n",
       "      <td>h2o_level</td>\n",
       "      <td>coyote_creek</td>\n",
       "    </tr>\n",
       "    <tr>\n",
       "      <th>14</th>\n",
       "      <td>_result</td>\n",
       "      <td>1</td>\n",
       "      <td>2023-01-10 04:58:12.653341+00:00</td>\n",
       "      <td>2023-01-10 16:58:12.653341+00:00</td>\n",
       "      <td>2023-01-10 15:00:29.179106+00:00</td>\n",
       "      <td>5</td>\n",
       "      <td>water_level</td>\n",
       "      <td>h2o_level</td>\n",
       "      <td>coyote_creek</td>\n",
       "    </tr>\n",
       "    <tr>\n",
       "      <th>15</th>\n",
       "      <td>_result</td>\n",
       "      <td>1</td>\n",
       "      <td>2023-01-10 04:58:12.653341+00:00</td>\n",
       "      <td>2023-01-10 16:58:12.653341+00:00</td>\n",
       "      <td>2023-01-10 16:16:06.873886+00:00</td>\n",
       "      <td>5</td>\n",
       "      <td>water_level</td>\n",
       "      <td>h2o_level</td>\n",
       "      <td>coyote_creek</td>\n",
       "    </tr>\n",
       "    <tr>\n",
       "      <th>16</th>\n",
       "      <td>_result</td>\n",
       "      <td>1</td>\n",
       "      <td>2023-01-10 04:58:12.653341+00:00</td>\n",
       "      <td>2023-01-10 16:58:12.653341+00:00</td>\n",
       "      <td>2023-01-10 16:53:25.112366+00:00</td>\n",
       "      <td>12</td>\n",
       "      <td>water_level</td>\n",
       "      <td>h2o_level</td>\n",
       "      <td>coyote_creek</td>\n",
       "    </tr>\n",
       "    <tr>\n",
       "      <th>17</th>\n",
       "      <td>_result</td>\n",
       "      <td>1</td>\n",
       "      <td>2023-01-10 04:58:12.653341+00:00</td>\n",
       "      <td>2023-01-10 16:58:12.653341+00:00</td>\n",
       "      <td>2023-01-10 16:57:37.638057+00:00</td>\n",
       "      <td>8</td>\n",
       "      <td>water_level</td>\n",
       "      <td>h2o_level</td>\n",
       "      <td>coyote_creek</td>\n",
       "    </tr>\n",
       "  </tbody>\n",
       "</table>\n",
       "</div>"
      ],
      "text/plain": [
       "     result  table  ... _measurement      location\n",
       "0   _result      0  ...    h2o_level  coyote_creek\n",
       "1   _result      0  ...    h2o_level  coyote_creek\n",
       "2   _result      0  ...    h2o_level  coyote_creek\n",
       "3   _result      0  ...    h2o_level  coyote_creek\n",
       "4   _result      0  ...    h2o_level  coyote_creek\n",
       "5   _result      1  ...    h2o_level  coyote_creek\n",
       "6   _result      1  ...    h2o_level  coyote_creek\n",
       "7   _result      1  ...    h2o_level  coyote_creek\n",
       "8   _result      1  ...    h2o_level  coyote_creek\n",
       "9   _result      1  ...    h2o_level  coyote_creek\n",
       "10  _result      1  ...    h2o_level  coyote_creek\n",
       "11  _result      1  ...    h2o_level  coyote_creek\n",
       "12  _result      1  ...    h2o_level  coyote_creek\n",
       "13  _result      1  ...    h2o_level  coyote_creek\n",
       "14  _result      1  ...    h2o_level  coyote_creek\n",
       "15  _result      1  ...    h2o_level  coyote_creek\n",
       "16  _result      1  ...    h2o_level  coyote_creek\n",
       "17  _result      1  ...    h2o_level  coyote_creek\n",
       "\n",
       "[18 rows x 9 columns]"
      ]
     },
     "execution_count": 138,
     "metadata": {},
     "output_type": "execute_result"
    }
   ],
   "source": [
    "query = 'from(bucket: \"python_test\")\\\n",
    "|> range(start: -12h)'\n",
    "result = query_api.query_data_frame(org=org, query=query)\n",
    "# results = []\n",
    "# for table in result:\n",
    "#     for record in table.records:\n",
    "#         results.append((record.get_value(), record.get_field()))\n",
    "# results\n",
    "result\n"
   ]
  },
  {
   "cell_type": "code",
   "execution_count": 130,
   "metadata": {},
   "outputs": [
    {
     "data": {
      "text/plain": [
       "<bound method NDFrame.describe of      result  table  ... _measurement      location\n",
       "0   _result      0  ...    h2o_level  coyote_creek\n",
       "1   _result      0  ...    h2o_level  coyote_creek\n",
       "2   _result      0  ...    h2o_level  coyote_creek\n",
       "3   _result      1  ...    h2o_level  coyote_creek\n",
       "4   _result      1  ...    h2o_level  coyote_creek\n",
       "5   _result      1  ...    h2o_level  coyote_creek\n",
       "6   _result      1  ...    h2o_level  coyote_creek\n",
       "7   _result      1  ...    h2o_level  coyote_creek\n",
       "8   _result      1  ...    h2o_level  coyote_creek\n",
       "9   _result      1  ...    h2o_level  coyote_creek\n",
       "10  _result      1  ...    h2o_level  coyote_creek\n",
       "11  _result      1  ...    h2o_level  coyote_creek\n",
       "12  _result      1  ...    h2o_level  coyote_creek\n",
       "13  _result      1  ...    h2o_level  coyote_creek\n",
       "\n",
       "[14 rows x 9 columns]>"
      ]
     },
     "execution_count": 130,
     "metadata": {},
     "output_type": "execute_result"
    }
   ],
   "source": [
    "result.describe"
   ]
  },
  {
   "cell_type": "code",
   "execution_count": 86,
   "metadata": {},
   "outputs": [
    {
     "data": {
      "text/plain": [
       "{'created_at': datetime.datetime(2023, 1, 10, 16, 12, 37, 502280, tzinfo=tzutc()),\n",
       " 'description': None,\n",
       " 'id': '4feab0fa347f562e',\n",
       " 'labels': [],\n",
       " 'links': {'_self': '/api/v2/buckets/4feab0fa347f562e',\n",
       "           'labels': '/api/v2/buckets/4feab0fa347f562e/labels',\n",
       "           'members': '/api/v2/buckets/4feab0fa347f562e/members',\n",
       "           'org': '/api/v2/orgs/26b2c811b80b549e',\n",
       "           'owners': '/api/v2/buckets/4feab0fa347f562e/owners',\n",
       "           'write': '/api/v2/write?org=26b2c811b80b549e&bucket=4feab0fa347f562e'},\n",
       " 'name': 'created_on_python',\n",
       " 'org_id': '26b2c811b80b549e',\n",
       " 'retention_rules': [{'every_seconds': 3600,\n",
       "                      'shard_group_duration_seconds': 3600,\n",
       "                      'type': 'expire'}],\n",
       " 'rp': None,\n",
       " 'schema_type': None,\n",
       " 'type': 'user',\n",
       " 'updated_at': datetime.datetime(2023, 1, 10, 16, 12, 37, 502280, tzinfo=tzutc())}"
      ]
     },
     "execution_count": 86,
     "metadata": {},
     "output_type": "execute_result"
    }
   ],
   "source": [
    "retention_rules = BucketRetentionRules(type=\"expire\", every_seconds=3600)\n",
    "client.buckets_api().create_bucket(bucket_name=\"created_on_python\",retention_rules=retention_rules,org=org)"
   ]
  },
  {
   "cell_type": "code",
   "execution_count": 87,
   "metadata": {},
   "outputs": [
    {
     "data": {
      "text/plain": [
       "{'buckets': [{'created_at': datetime.datetime(2023, 1, 10, 16, 12, 37, 502280, tzinfo=tzutc()),\n",
       "              'description': None,\n",
       "              'id': '4feab0fa347f562e',\n",
       "              'labels': [],\n",
       "              'links': {'_self': '/api/v2/buckets/4feab0fa347f562e',\n",
       "                        'labels': '/api/v2/buckets/4feab0fa347f562e/labels',\n",
       "                        'members': '/api/v2/buckets/4feab0fa347f562e/members',\n",
       "                        'org': '/api/v2/orgs/26b2c811b80b549e',\n",
       "                        'owners': '/api/v2/buckets/4feab0fa347f562e/owners',\n",
       "                        'write': '/api/v2/write?org=26b2c811b80b549e&bucket=4feab0fa347f562e'},\n",
       "              'name': 'created_on_python',\n",
       "              'org_id': '26b2c811b80b549e',\n",
       "              'retention_rules': [{'every_seconds': 3600,\n",
       "                                   'shard_group_duration_seconds': 3600,\n",
       "                                   'type': 'expire'}],\n",
       "              'rp': None,\n",
       "              'schema_type': None,\n",
       "              'type': 'user',\n",
       "              'updated_at': datetime.datetime(2023, 1, 10, 16, 12, 37, 502280, tzinfo=tzutc())},\n",
       "             {'created_at': datetime.datetime(2023, 1, 10, 12, 17, 18, 54889, tzinfo=tzutc()),\n",
       "              'description': 'System bucket for monitoring logs',\n",
       "              'id': '7f53d8d6b4df961b',\n",
       "              'labels': [],\n",
       "              'links': {'_self': '/api/v2/buckets/7f53d8d6b4df961b',\n",
       "                        'labels': '/api/v2/buckets/7f53d8d6b4df961b/labels',\n",
       "                        'members': '/api/v2/buckets/7f53d8d6b4df961b/members',\n",
       "                        'org': '/api/v2/orgs/26b2c811b80b549e',\n",
       "                        'owners': '/api/v2/buckets/7f53d8d6b4df961b/owners',\n",
       "                        'write': '/api/v2/write?org=26b2c811b80b549e&bucket=7f53d8d6b4df961b'},\n",
       "              'name': '_monitoring',\n",
       "              'org_id': '26b2c811b80b549e',\n",
       "              'retention_rules': [{'every_seconds': 604800,\n",
       "                                   'shard_group_duration_seconds': 86400,\n",
       "                                   'type': 'expire'}],\n",
       "              'rp': None,\n",
       "              'schema_type': None,\n",
       "              'type': 'system',\n",
       "              'updated_at': datetime.datetime(2023, 1, 10, 12, 17, 18, 54889, tzinfo=tzutc())},\n",
       "             {'created_at': datetime.datetime(2023, 1, 10, 12, 17, 18, 89085, tzinfo=tzutc()),\n",
       "              'description': None,\n",
       "              'id': 'e07fe4b78da2260e',\n",
       "              'labels': [],\n",
       "              'links': {'_self': '/api/v2/buckets/e07fe4b78da2260e',\n",
       "                        'labels': '/api/v2/buckets/e07fe4b78da2260e/labels',\n",
       "                        'members': '/api/v2/buckets/e07fe4b78da2260e/members',\n",
       "                        'org': '/api/v2/orgs/26b2c811b80b549e',\n",
       "                        'owners': '/api/v2/buckets/e07fe4b78da2260e/owners',\n",
       "                        'write': '/api/v2/write?org=26b2c811b80b549e&bucket=e07fe4b78da2260e'},\n",
       "              'name': 'python_test',\n",
       "              'org_id': '26b2c811b80b549e',\n",
       "              'retention_rules': [{'every_seconds': 0,\n",
       "                                   'shard_group_duration_seconds': 604800,\n",
       "                                   'type': 'expire'}],\n",
       "              'rp': None,\n",
       "              'schema_type': None,\n",
       "              'type': 'user',\n",
       "              'updated_at': datetime.datetime(2023, 1, 10, 12, 17, 18, 89085, tzinfo=tzutc())},\n",
       "             {'created_at': datetime.datetime(2023, 1, 10, 12, 17, 18, 37650, tzinfo=tzutc()),\n",
       "              'description': 'System bucket for task logs',\n",
       "              'id': 'e5a77314cbfe5d4c',\n",
       "              'labels': [],\n",
       "              'links': {'_self': '/api/v2/buckets/e5a77314cbfe5d4c',\n",
       "                        'labels': '/api/v2/buckets/e5a77314cbfe5d4c/labels',\n",
       "                        'members': '/api/v2/buckets/e5a77314cbfe5d4c/members',\n",
       "                        'org': '/api/v2/orgs/26b2c811b80b549e',\n",
       "                        'owners': '/api/v2/buckets/e5a77314cbfe5d4c/owners',\n",
       "                        'write': '/api/v2/write?org=26b2c811b80b549e&bucket=e5a77314cbfe5d4c'},\n",
       "              'name': '_tasks',\n",
       "              'org_id': '26b2c811b80b549e',\n",
       "              'retention_rules': [{'every_seconds': 259200,\n",
       "                                   'shard_group_duration_seconds': 86400,\n",
       "                                   'type': 'expire'}],\n",
       "              'rp': None,\n",
       "              'schema_type': None,\n",
       "              'type': 'system',\n",
       "              'updated_at': datetime.datetime(2023, 1, 10, 12, 17, 18, 37650, tzinfo=tzutc())}],\n",
       " 'links': {'_self': '/api/v2/buckets?descending=false&limit=20&offset=0',\n",
       "           'next': None,\n",
       "           'prev': None}}"
      ]
     },
     "execution_count": 87,
     "metadata": {},
     "output_type": "execute_result"
    }
   ],
   "source": [
    "client.buckets_api().find_buckets()"
   ]
  },
  {
   "attachments": {},
   "cell_type": "markdown",
   "metadata": {},
   "source": [
    "# Using influxdb library"
   ]
  },
  {
   "cell_type": "code",
   "execution_count": 103,
   "metadata": {},
   "outputs": [],
   "source": [
    "from influxdb import InfluxDBClient as InfluxDBClient2"
   ]
  },
  {
   "cell_type": "code",
   "execution_count": 104,
   "metadata": {},
   "outputs": [],
   "source": [
    "cl = InfluxDBClient2(host=\"localhost\",port=8086,database=\"python_test\")\n"
   ]
  },
  {
   "cell_type": "code",
   "execution_count": 105,
   "metadata": {},
   "outputs": [
    {
     "ename": "InfluxDBClientError",
     "evalue": "401: {\"code\":\"unauthorized\",\"message\":\"Unauthorized\"}",
     "output_type": "error",
     "traceback": [
      "\u001b[0;31m---------------------------------------------------------------------------\u001b[0m",
      "\u001b[0;31mInfluxDBClientError\u001b[0m                       Traceback (most recent call last)",
      "Cell \u001b[0;32mIn[105], line 1\u001b[0m\n\u001b[0;32m----> 1\u001b[0m cl\u001b[39m.\u001b[39;49mcreate_database(\u001b[39m\"\u001b[39;49m\u001b[39mpython_db\u001b[39;49m\u001b[39m\"\u001b[39;49m)\n",
      "File \u001b[0;32m~/.local/share/virtualenvs/fastAPI-NhpKiiZ7/lib/python3.10/site-packages/influxdb/client.py:746\u001b[0m, in \u001b[0;36mInfluxDBClient.create_database\u001b[0;34m(self, dbname)\u001b[0m\n\u001b[1;32m    740\u001b[0m \u001b[39mdef\u001b[39;00m \u001b[39mcreate_database\u001b[39m(\u001b[39mself\u001b[39m, dbname):\n\u001b[1;32m    741\u001b[0m \u001b[39m    \u001b[39m\u001b[39m\"\"\"Create a new database in InfluxDB.\u001b[39;00m\n\u001b[1;32m    742\u001b[0m \n\u001b[1;32m    743\u001b[0m \u001b[39m    :param dbname: the name of the database to create\u001b[39;00m\n\u001b[1;32m    744\u001b[0m \u001b[39m    :type dbname: str\u001b[39;00m\n\u001b[1;32m    745\u001b[0m \u001b[39m    \"\"\"\u001b[39;00m\n\u001b[0;32m--> 746\u001b[0m     \u001b[39mself\u001b[39;49m\u001b[39m.\u001b[39;49mquery(\u001b[39m\"\u001b[39;49m\u001b[39mCREATE DATABASE \u001b[39;49m\u001b[39m{0}\u001b[39;49;00m\u001b[39m\"\u001b[39;49m\u001b[39m.\u001b[39;49mformat(quote_ident(dbname)),\n\u001b[1;32m    747\u001b[0m                method\u001b[39m=\u001b[39;49m\u001b[39m\"\u001b[39;49m\u001b[39mPOST\u001b[39;49m\u001b[39m\"\u001b[39;49m)\n",
      "File \u001b[0;32m~/.local/share/virtualenvs/fastAPI-NhpKiiZ7/lib/python3.10/site-packages/influxdb/client.py:521\u001b[0m, in \u001b[0;36mInfluxDBClient.query\u001b[0;34m(self, query, params, bind_params, epoch, expected_response_code, database, raise_errors, chunked, chunk_size, method)\u001b[0m\n\u001b[1;32m    518\u001b[0m \u001b[39mif\u001b[39;00m query\u001b[39m.\u001b[39mlower()\u001b[39m.\u001b[39mstartswith(\u001b[39m\"\u001b[39m\u001b[39mselect \u001b[39m\u001b[39m\"\u001b[39m) \u001b[39mand\u001b[39;00m \u001b[39m\"\u001b[39m\u001b[39m into \u001b[39m\u001b[39m\"\u001b[39m \u001b[39min\u001b[39;00m query\u001b[39m.\u001b[39mlower():\n\u001b[1;32m    519\u001b[0m     method \u001b[39m=\u001b[39m \u001b[39m\"\u001b[39m\u001b[39mPOST\u001b[39m\u001b[39m\"\u001b[39m\n\u001b[0;32m--> 521\u001b[0m response \u001b[39m=\u001b[39m \u001b[39mself\u001b[39;49m\u001b[39m.\u001b[39;49mrequest(\n\u001b[1;32m    522\u001b[0m     url\u001b[39m=\u001b[39;49m\u001b[39m\"\u001b[39;49m\u001b[39mquery\u001b[39;49m\u001b[39m\"\u001b[39;49m,\n\u001b[1;32m    523\u001b[0m     method\u001b[39m=\u001b[39;49mmethod,\n\u001b[1;32m    524\u001b[0m     params\u001b[39m=\u001b[39;49mparams,\n\u001b[1;32m    525\u001b[0m     data\u001b[39m=\u001b[39;49m\u001b[39mNone\u001b[39;49;00m,\n\u001b[1;32m    526\u001b[0m     stream\u001b[39m=\u001b[39;49mchunked,\n\u001b[1;32m    527\u001b[0m     expected_response_code\u001b[39m=\u001b[39;49mexpected_response_code\n\u001b[1;32m    528\u001b[0m )\n\u001b[1;32m    530\u001b[0m data \u001b[39m=\u001b[39m response\u001b[39m.\u001b[39m_msgpack\n\u001b[1;32m    531\u001b[0m \u001b[39mif\u001b[39;00m \u001b[39mnot\u001b[39;00m data:\n",
      "File \u001b[0;32m~/.local/share/virtualenvs/fastAPI-NhpKiiZ7/lib/python3.10/site-packages/influxdb/client.py:378\u001b[0m, in \u001b[0;36mInfluxDBClient.request\u001b[0;34m(self, url, method, params, data, stream, expected_response_code, headers)\u001b[0m\n\u001b[1;32m    376\u001b[0m \u001b[39melse\u001b[39;00m:\n\u001b[1;32m    377\u001b[0m     err_msg \u001b[39m=\u001b[39m reformat_error(response)\n\u001b[0;32m--> 378\u001b[0m     \u001b[39mraise\u001b[39;00m InfluxDBClientError(err_msg, response\u001b[39m.\u001b[39mstatus_code)\n",
      "\u001b[0;31mInfluxDBClientError\u001b[0m: 401: {\"code\":\"unauthorized\",\"message\":\"Unauthorized\"}"
     ]
    }
   ],
   "source": [
    "cl.create_database(\"python_db\")"
   ]
  },
  {
   "cell_type": "code",
   "execution_count": null,
   "metadata": {},
   "outputs": [],
   "source": [
    "cl.get_list_database()\n"
   ]
  },
  {
   "cell_type": "code",
   "execution_count": null,
   "metadata": {},
   "outputs": [],
   "source": [
    "cl.switch_database(\"python_db\")"
   ]
  }
 ],
 "metadata": {
  "kernelspec": {
   "display_name": "fastAPI-NhpKiiZ7",
   "language": "python",
   "name": "python3"
  },
  "language_info": {
   "codemirror_mode": {
    "name": "ipython",
    "version": 3
   },
   "file_extension": ".py",
   "mimetype": "text/x-python",
   "name": "python",
   "nbconvert_exporter": "python",
   "pygments_lexer": "ipython3",
   "version": "3.10.9"
  },
  "orig_nbformat": 4,
  "vscode": {
   "interpreter": {
    "hash": "ed47d782e33f4104f207cb2dd8be08e6ca3338c1a6a1488b481a3d01c2ea2d26"
   }
  }
 },
 "nbformat": 4,
 "nbformat_minor": 2
}
